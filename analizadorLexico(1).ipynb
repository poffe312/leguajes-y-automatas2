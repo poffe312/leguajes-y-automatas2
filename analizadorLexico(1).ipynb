{
 "cells": [
  {
   "cell_type": "markdown",
   "metadata": {},
   "source": [
    "# <center> Lenguajes y Autómatas II</center>\n",
    "## <center>Tema: Análisis Léxico </center>"
   ]
  },
  {
   "attachments": {
    "scanner.png": {
     "image/png": "[encoded data removed]"
    }
   },
   "cell_type": "markdown",
   "metadata": {},
   "source": [
    "### Analisis Léxico\n",
    "\n",
    "Un **analizador léxico** o analizador lexicográfico (en inglés *scanner*) es la primera fase de un compilador consistente en un programa que recibe como **entrada el código fuente** de otro programa (secuencia de caracteres) y produce una **salida compuesta de tokens (componentes léxicos) o símbolos**. Estos **tokens** sirven para una posterior etapa del proceso de traducción, siendo la entrada para el analizador sintáctico (en inglés *parser*).\n",
    "\n",
    "La especificación de un lenguaje de programación a menudo incluye un **conjunto de reglas** que definen el léxico. Estas reglas consisten comúnmente en **expresiones regulares** que indican el conjunto de posibles secuencias de caracteres que definen un *token ó lexema*. En algunos lenguajes de programación es necesario establecer patrones para caracteres especiales (como el espacio en blanco) que la gramática pueda reconocer sin que constituya un token en sí.\n",
    "\n",
    "\n",
    "![scanner.png](attachment:scanner.png)\n",
    "\n",
    "\n",
    "\n",
    "### Desarrollar una analizador léxico \n",
    "\n",
    "Cómo un analizador léxico tiene que leer el código fuente y  reconocer patrones llamados tokens,  que no son mas que un conjunto de caracteres que definen componentes léxicos del lenguaje que estamos utilizando, por ejemplo en C : la palabra reservada **printf()**.  Entonces, si queremos desarrollar un analizador léxico debemos primeramente saber manipular cadenas de caracteres.\n",
    "\n"
   ]
  },
  {
   "cell_type": "code",
   "execution_count": 1,
   "metadata": {},
   "outputs": [
    {
     "name": "stderr",
     "output_type": "stream",
     "text": [
      "C:\\Users\\fer\\Anaconda3\\lib\\site-packages\\IPython\\core\\display.py:689: UserWarning: Consider using IPython.display.IFrame instead\n",
      "  warnings.warn(\"Consider using IPython.display.IFrame instead\")\n"
     ]
    },
    {
     "data": {
      "text/html": [
       "<iframe width=\"560\" height=\"315\" src=\"https://www.youtube.com/embed/idnS9MTwfOU\" frameborder=\"0\" allow=\"accelerometer; autoplay; encrypted-media; gyroscope; picture-in-picture\" allowfullscreen></iframe>"
      ],
      "text/plain": [
       "<IPython.core.display.HTML object>"
      ]
     },
     "execution_count": 1,
     "metadata": {},
     "output_type": "execute_result"
    }
   ],
   "source": [
    "from IPython.display import HTML\n",
    "\n",
    "\n",
    "HTML('<iframe width=\"560\" height=\"315\" src=\"https://www.youtube.com/embed/S_f2qV2_U00?rel=0&amp;controls=0&amp;showinfo=0\" frameborder=\"0\" allowfullscreen></iframe>')\n",
    "HTML('<iframe width=\"560\" height=\"315\" src=\"https://www.youtube.com/embed/idnS9MTwfOU\" frameborder=\"0\" allow=\"accelerometer; autoplay; encrypted-media; gyroscope; picture-in-picture\" allowfullscreen></iframe>')"
   ]
  },
  {
   "cell_type": "markdown",
   "metadata": {},
   "source": [
    "### Manipular cadenas de caracteres en python\n",
    "\n",
    "Si has estado expuesto antes a otro lenguaje de programación, sabrás que necesitas declarar o escribir variables antes de que puedas almacenar cualquier cosa en ellas. Esto no es necesario cuando trabajas con cadenas de caracteres en Python. Podemos crear una cadena de caracteres simplemente encerrando contenido entre comillas después de un signo de igual (=).\n",
    "\n",
    "ejemplo :\n",
    "```python\n",
    "          mensaje = \"Hola a Todos\"\n",
    " ```   \n"
   ]
  },
  {
   "cell_type": "code",
   "execution_count": 2,
   "metadata": {},
   "outputs": [
    {
     "name": "stdout",
     "output_type": "stream",
     "text": [
      "Hola Mundo desde el Analizador Léxico\n"
     ]
    }
   ],
   "source": [
    "# Definimos una variable tipo string\n",
    "mensaje = \"Hola Mundo desde el Analizador Léxico\"\n",
    "print(mensaje)"
   ]
  },
  {
   "cell_type": "markdown",
   "metadata": {},
   "source": [
    "### Operadores de cadenas de caracteres: adición y multiplicación\n",
    "Una cadena de caracteres es un objeto que consiste precisamente en una serie de signos o caracteres. Python sabe cómo tratar un número de representaciones poderosas y de propósito general, incluidas las cadenas de caracteres. Una forma de manipular cadenas de caracteres es utilizar operadores de cadenas de caracteres. Dichos operadores se representan con símbolos que asociamos a las matemáticas, como +, -, *, / y =. Estos signos realizan acciones similares a sus contrapartes matemáticas cuando se usan con las cadenas de carateres, aunque no iguales."
   ]
  },
  {
   "cell_type": "markdown",
   "metadata": {},
   "source": [
    "#### Concatenar\n",
    "Este término significa juntar cadenas de caracteres. El proceso de concatenación se realiza mediante el operador de suma (+). Ten en cuenta que debes marcar explícitamente dónde quieres los espacios en blanco y colocarlos entre comillas. En este ejemplo, la cadena de caracteres “mensaje” tiene el contenido “Hola Mundo desde el Anaizador Léxico”"
   ]
  },
  {
   "cell_type": "code",
   "execution_count": 3,
   "metadata": {},
   "outputs": [
    {
     "name": "stdout",
     "output_type": "stream",
     "text": [
      "Hola Mundo desde el Analizador Léxico\n"
     ]
    }
   ],
   "source": [
    "# Ejemplo de concatenación de cadenas\n",
    "mensaje = \"Hola Mundo\" + \" \" + \"desde el \"+\"Analizador Léxico\"\n",
    "print(mensaje)"
   ]
  },
  {
   "cell_type": "markdown",
   "metadata": {},
   "source": [
    "#### Multiplicar\n",
    "Si quieres varias copias de una cadena de caracteres utiliza el operador de multiplicación (*). En este ejemplo, la cadena de caracteres mensaje lleva el contenido “Hola” tres veces, mientras que la cadena de caracteres mensaje2 tiene el contenido “Mundo”. Ordenemos imprimir las dos cadenas."
   ]
  },
  {
   "cell_type": "code",
   "execution_count": 4,
   "metadata": {},
   "outputs": [
    {
     "name": "stdout",
     "output_type": "stream",
     "text": [
      "Hola Hola Hola Mundo\n"
     ]
    }
   ],
   "source": [
    "# Ejemplo de multiplicación de cadenas\n",
    "mensaje = \"Hola \" * 3\n",
    "mensaje2 = \"Mundo\"\n",
    "print(mensaje + mensaje2)"
   ]
  },
  {
   "cell_type": "markdown",
   "metadata": {},
   "source": [
    "#### Añadir\n",
    "¿Qué pasa si quieres añadir strings de manera sucesiva al final de una cadena de caracteres? El operador especial para ello es compuesto **(+=)**."
   ]
  },
  {
   "cell_type": "code",
   "execution_count": 5,
   "metadata": {},
   "outputs": [
    {
     "name": "stdout",
     "output_type": "stream",
     "text": [
      "Hola Mundo\n"
     ]
    }
   ],
   "source": [
    "mensaje3 = 'Hola'\n",
    "mensaje3 += ' '\n",
    "mensaje3 += 'Mundo'\n",
    "print(mensaje3)"
   ]
  },
  {
   "cell_type": "markdown",
   "metadata": {},
   "source": [
    "#### Métodos para cadenas de caracteres: buscar, cambiar\n",
    "En adición a los operadores, Python trae preinstalado docenas de métodos que te permiten hacer cosas con las cadenas de\n",
    "caracteres. Solos o en combinación, los métodos pueden hacer casi todo lo que te imagines con las cadenas de caracteres. \n",
    "Puedes usar como referencia la lista de métodos de cadenas de caracteres (String Methods) en el sitio web de Python, \n",
    "que incluye información de cómo utilizar correctamente cada uno. Para asegurar que tengas una comprensión básica de\n",
    "métodos para cadenas de caracteres, lo que sigue es una breve descripción de los utilizados más comúnmente.\n",
    "\n",
    "**Extensión**\n",
    "Puedes determinar el número de caracteres en una cadena utilizando el método _len_. Acuérdate que los espacios en blanco cuentan como un carácter.\n",
    "\n",
    "```python\n",
    "mensaje = 'hola' + ' ' + 'mundo'\n",
    "print(len(mensaje))\n",
    "```\n",
    "-> 10\n",
    "\n",
    "\n",
    "**Encontrar**\n",
    "Puedes buscar una sub-cadena en una cadena de caracteres utilizando el método _find_ y tu programa te indicará el índice de inicio de la misma. Esto es muy útil para procesos que veremos más adelante. Ten en mente que los índices están numerados de izquierda a derecha y que el número en el que se comienza a contar la posición es el 0, no el 1.\n",
    "\n",
    "```python\n",
    "mensaje5 = \"Hola Mundo\"\n",
    "mensaje5a = mensaje5.find(\"Mundo\")\n",
    "print(mensaje5a)\n",
    "```\n",
    "-> 5\n",
    "\n",
    "**Minúsculas**\n",
    "A veces es útil convertir una cadena de caracteres a minúsculas. Para ello se utiliza el método _lower_. Por ejemplo, al uniformar los caracteres permitimos que la computadora reconozca fácilmente que “Algunas Veces” y “algunas veces” son la misma frase.\n",
    "\n",
    "```python\n",
    "mensaje7 = \"HOLA MUNDO\"\n",
    "mensaje7a = mensaje7.lower()\n",
    "print(mensaje7a)\n",
    "```\n",
    "-> hola mundo\n",
    "\n",
    "Convertir las minúsculas en mayúsculas se logra cambiando  *.lower()* por *.upper()*. \n",
    "\n",
    "\n",
    "**Reemplazar**\n",
    "Si necesitas cambiar una sub-cadena de una cadena se puede utilizar el método *replace*.\n",
    "```python\n",
    "mensaje8 = \"HOLA MUNDO\"\n",
    "mensaje8a = mensaje7.replace(\"L\", \"pizza\")\n",
    "print(mensaje8a)\n",
    "```\n",
    "-> HOpizzaA MUNDO\n",
    "\n",
    "**Cortar**\n",
    "Si quieres cortar partes que no quieras del principio o del final de la cadena de caracteres, lo puedes hacer creando una sub-cadena. El mismo tipo de técnica te permite separar una cadena muy larga en componentes más manejables.\n",
    "\n",
    "```python\n",
    "mensaje9 = \"Hola Mundo\"\n",
    "mensaje9a = mensaje9[1:8]\n",
    "print(mensaje9a)\n",
    "```\n",
    "-> ola Mun\n",
    "\n",
    "\n",
    "**División en trozos**\n",
    "Supongamos que tenemos una cadena que contiene una fecha, en formato día/mes/año. Podemos obtener fácilmente cada trozo de la cadena (cada dato de la fecha) utilizando el método *split*. Este método divide a la cadena en trozos, cortando cada trozo en cada ocurrencia de un separador, que se pasa como argumento.\n",
    "\n",
    "```python\n",
    "fecha = '17/05/2012'\n",
    "datos = fecha.split('/') # separamos la cadena por /\n",
    "print(datos)\n",
    "```\n",
    "-> ['17', '05', '2012'] \n",
    "\n",
    "###### Si no le damos a split un separador, la cadena será separada por espacios. Esto puede servir para obtener todas las palabras de una oración.\n",
    "\n",
    "\n",
    "**Ejercicio # 1.** Escriba un programa en Python que permita capturar una cadena de caracteres que signifiquen un comando de  impresion  en lenguaje Ansi C. Ejemplo:  printf(\"hola mundo\"); , print(velocidad); , etc.\n",
    "La salida debe ser el análisis léxico de esta cadena. \n",
    "<ol>\n",
    "    <li>La palabra reservada **printf**</li>\n",
    "    <li>El paréntesis de apertura **(**</li>\n",
    "    <li>La cadena de caracteres ó el identificador </li>\n",
    "    <li>El paréntesis de cierre **)**</li>\n",
    "    <li>El símbolo **;** de fin de sentencia </li>\n",
    "</ol>\n"
   ]
  },
  {
   "cell_type": "code",
   "execution_count": null,
   "metadata": {},
   "outputs": [],
   "source": [
    "# script para analizar léxicmente la sentencia printf en ansi c\n",
    "#autor:\n",
    "#fecha\n",
    "def lexico(inst):\n",
    "    f=inst[0:6]\n",
    "    print(\"la palabra reselvada:\", f)\n",
    "    d=inst[6]\n",
    "    print(\"el parentesis de apertura: \", d)\n",
    "    e=inst.find(\")\")\n",
    "    a=inst[e]\n",
    "    t=inst[7:e]\n",
    "    print(\"la cadena de caracteres: \", t)  \n",
    "    print(\"El parentesis d cierre: \", a)   \n",
    "    i=inst.find(\";\")\n",
    "    j=inst[i]\n",
    "    print(\"El simbolo de fin de sentencia: \", j)\n",
    "    \n",
    "def main():\n",
    "    print(\"análisi léxico de la sentaci printf--\")\n",
    "    sentencia=input(\"introduce la sentencia con printf\")\n",
    "    lexico(sentencia)\n",
    "    #esprecion regular \n",
    "    #sentencia = pr parentesisApertura String | id parentesisCerradura sfin\n",
    "    #pr= printf\n",
    "    #parentesisApertura= (\n",
    "    #String =\"+caracter\"\n",
    "    #caracter= a|b|c..A|B|C..|*|+|0,1,2,3..9|space\n",
    "    #id=identificador ó varible \n",
    "    #parentesisCerradura=)\n",
    "    #sfin=;\n",
    "    \n",
    "if __name__ ==\"__main__\":\n",
    "    main()"
   ]
  },
  {
   "cell_type": "code",
   "execution_count": null,
   "metadata": {},
   "outputs": [],
   "source": []
  },
  {
   "attachments": {
    "ej1.png": {
     "image/png": "[encoded data removed]"
    },
    "ej2.png": {
     "image/png": "[encoded data removed]"
    },
    "ej3.png": {
     "image/png": "[encoded data removed]"
    }
   },
   "cell_type": "markdown",
   "metadata": {},
   "source": [
    "### Expresiones regulares\n",
    "En cómputo teórico y teoría de lenguajes formales una expresión regular, también conocida como regex, regexp o expresión racional, es una secuencia de caracteres que forma un patrón de búsqueda, principalmente utilizada para la búsqueda de patrones de cadenas de caracteres u operaciones de sustituciones.[Wikipedia,2019]\n",
    "\n",
    "En informática, las expresiones regulares proporcionan una manera muy flexible de buscar o reconocer cadenas de texto.\n",
    "\n",
    "### Ejercicios:\n",
    "$$ a=10 $$\n",
    "<h5>Ejercicio 1. Dado el alfabeto {a,b}, escriba los siguientes lenguajes por medio de expresiones regulares.</h5>\n",
    "<li>1. Cadenas de a's y b's que inician con a </li>\n",
    "\n",
    "<center>\n",
    "<h4> Expresión Regular </h4></center>\n",
    "$$aa^{*}b^{*}$$\n",
    "\n",
    "<center>\n",
    "<h4> Automata </h4></center>\n",
    "\n",
    "![ej1.png](attachment:ej1.png)\n",
    "\n",
    "<center>\n",
    "<h4> Tabla de transiciones </h4></center>\n",
    "\n",
    "|  Estado  |      a     |   b    |\n",
    "|----------|:----------:|-------:|\n",
    "|     q0   |      q1    |   -    |\n",
    "|     q1   |      q1    |   q1   |\n",
    "\n",
    "\n",
    "\n",
    "<li>2. Cadenas de a's y b's compuestas por un número par de a's</li>\n",
    "\n",
    "\n",
    "<center>\n",
    "<h4> Expresión Regular </h4></center>\n",
    "$$b^{*}ab^{*}a$$\n",
    "\n",
    "<center>\n",
    "<h4> Automata </h4></center>\n",
    "\n",
    "![ej2.png](attachment:ej2.png)\n",
    "\n",
    "<center>\n",
    "<h4> Tabla de transiciones </h4></center>\n",
    "\n",
    "|  Estado  |      a     |   b    |\n",
    "|----------|:----------:|-------:|\n",
    "|     q0   |      q1    |   q0   |\n",
    "|     q1   |      q0    |   q1   |\n",
    "\n",
    "<li>3.Cadenas que finalicen en ab y que sean al menos de cuatro caracteres de longitud</li>\n",
    "\n",
    "<center>\n",
    "<h4> Expresión Regular </h4></center>\n",
    "$$(a|b)^{+}(a|b)^{+}ab$$\n",
    "\n",
    "<center>\n",
    "<h4> Automata </h4></center>\n",
    "\n",
    "![ej3.png](attachment:ej3.png)\n",
    "\n",
    "<li>4. Palíndromas de a's y b's </li>\n",
    "\n",
    "<li>5. Para el siguiente programa escrito en un subconjunto de Ada, encuentre y clasifique todos los tokens </li>\n",
    "\n",
    "~~~\n",
    "BEGIN \n",
    "    A := B3;\n",
    "    Xyz := A + B + C - P/Q;\n",
    "    A := Xyz * (P+Q);\n",
    "    P := A - Xyz - P;\n",
    "END;\n",
    "~~~\n",
    "\n",
    "<li>Tabla de Tokens </li>\n",
    "\n",
    "|   Token   |    Lexema   |\n",
    "|----------|:----------:|\n",
    "|Variables| A,B,C,Xyz,P,Q,B3|\n",
    "|Operadores Aritméticos|+,-,*,|\n",
    "|Fin de Instrucción | ;|\n",
    "|Asignación|:=|\n",
    "|Inicio de procedimiento|BEGIN|\n",
    "|Fin de procedimiento|END|\n",
    "\n",
    "\n",
    "\n",
    "### Operaciones labda\n"
   ]
  },
  {
   "cell_type": "code",
   "execution_count": null,
   "metadata": {},
   "outputs": [],
   "source": []
  },
  {
   "cell_type": "code",
   "execution_count": null,
   "metadata": {},
   "outputs": [],
   "source": []
  },
  {
   "cell_type": "code",
   "execution_count": null,
   "metadata": {},
   "outputs": [],
   "source": []
  }
 ],
 "metadata": {
  "kernelspec": {
   "display_name": "Python 3",
   "language": "python",
   "name": "python3"
  },
  "language_info": {
   "codemirror_mode": {
    "name": "ipython",
    "version": 3
   },
   "file_extension": ".py",
   "mimetype": "text/x-python",
   "name": "python",
   "nbconvert_exporter": "python",
   "pygments_lexer": "ipython3",
   "version": "3.7.3"
  }
 },
 "nbformat": 4,
 "nbformat_minor": 2
}
